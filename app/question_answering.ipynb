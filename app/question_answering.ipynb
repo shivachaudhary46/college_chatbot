{
 "cells": [
  {
   "cell_type": "markdown",
   "id": "b5f8cfa1",
   "metadata": {},
   "source": [
    "## Project (Question Answering on Private Documents)\n",
    "\n",
    "Question Answering on private documents, Creating a chatbot which could give you answers on basis of the question, from the private documents. first, you have to install following libraries. \n",
    "\n",
    "<span style=\"color:red\">`conda env create -f environment.yml`</span>\n",
    "\n",
    "This will install all necessary packages required for Project (Question Answering on private Documents)\n",
    "\n",
    "To use conda environment, \n",
    "\n",
    "you must download the anaconda from this link, <span style=\"color:blue\">[anaconda](https://www.anaconda.com/)</span>. Go to <span style=\"color:blue\">`Free Download`</span> button, and you have to provide your email and anaconda team will sent you a download link. Whether you are windows user or mac user, download the compatible version of anconda navigator and anaconda prompt. \n",
    "\n",
    "If you have any problem while downloading Anaconda Navigator, go to this link, <span style=\"color:blue\">[troubleshooting](https://www.anaconda.com/docs/reference/troubleshooting#anaconda-distribution-installation-issues)</span>. \n",
    "\n",
    "But, if you have already downloaded the Anaconda navigator make sure to delete it. and Download latest version compatible with your device.\n",
    "\n",
    "Other Required Packages are:\n",
    "- <span style=\"color:red\">pip install pypdf</span>\n",
    "\n",
    "If you have not installed langchain, then head over to this link [langchain installation](https://python.langchain.com/docs/how_to/installation/) other wise you can simply install through, \n",
    "\n",
    "- <span style=\"color:red\">pip install langchain</span>\n",
    "- <span style=\"color:red\">pip install langchain-google-genai</span>\n"
   ]
  },
  {
   "cell_type": "markdown",
   "id": "51f3e633",
   "metadata": {},
   "source": []
  },
  {
   "cell_type": "code",
   "execution_count": 3,
   "id": "2c1716d3",
   "metadata": {},
   "outputs": [],
   "source": [
    "from langchain_google_genai import ChatGoogleGenerativeAI"
   ]
  },
  {
   "cell_type": "code",
   "execution_count": 4,
   "id": "481863fc",
   "metadata": {},
   "outputs": [
    {
     "data": {
      "text/plain": [
       "True"
      ]
     },
     "execution_count": 4,
     "metadata": {},
     "output_type": "execute_result"
    }
   ],
   "source": [
    "import os \n",
    "from dotenv import load_dotenv, find_dotenv\n",
    "load_dotenv(find_dotenv(), override=True)"
   ]
  },
  {
   "cell_type": "code",
   "execution_count": 5,
   "id": "d8b2852f",
   "metadata": {},
   "outputs": [],
   "source": [
    "def load_document(file):\n",
    "    from langchain.document_loaders import PyPDFLoader\n",
    "    print(f\"Loading file ....../{file}\")\n",
    "    loader = PyPDFLoader(file)\n",
    "    data = loader.load()\n",
    "    return data"
   ]
  },
  {
   "cell_type": "code",
   "execution_count": null,
   "id": "aa4565b5",
   "metadata": {},
   "outputs": [],
   "source": [
    "data = load_document('file')"
   ]
  }
 ],
 "metadata": {
  "kernelspec": {
   "display_name": "llms",
   "language": "python",
   "name": "python3"
  },
  "language_info": {
   "codemirror_mode": {
    "name": "ipython",
    "version": 3
   },
   "file_extension": ".py",
   "mimetype": "text/x-python",
   "name": "python",
   "nbconvert_exporter": "python",
   "pygments_lexer": "ipython3",
   "version": "3.11.13"
  }
 },
 "nbformat": 4,
 "nbformat_minor": 5
}
