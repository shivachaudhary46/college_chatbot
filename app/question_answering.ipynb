{
 "cells": [
  {
   "cell_type": "markdown",
   "id": "b5f8cfa1",
   "metadata": {},
   "source": [
    "## Project (Question Answering on Private Documents) 📃🤔⁉️⁉️\n",
    "\n",
    "Question Answering on private documents, Creating a chatbot which could give you answers on basis of the question, from the private documents. first, you have to install following libraries. \n",
    "\n",
    "<span style=\"color:red\">`conda env create -f environment.yml`</span>\n",
    "\n",
    "This will install all necessary packages required for Project (Question Answering on private Documents)\n",
    "\n",
    "To use conda environment, \n",
    "\n",
    "you must download the anaconda from this link, <span style=\"color:blue\"> 👉👉 [anaconda](https://www.anaconda.com/)</span>. Go to <span style=\"color:blue\">`Free Download`</span> button, and you have to provide your email and anaconda team will sent you a download link. Whether you are windows user or mac user, download the compatible version of anconda navigator and anaconda prompt. \n",
    "\n",
    "If you have any problem while downloading Anaconda Navigator, go to this link, <span style=\"color:blue\"> 👉👉 [troubleshooting](https://www.anaconda.com/docs/reference/troubleshooting#anaconda-distribution-installation-issues)</span>. \n",
    "\n",
    "But, if you have already downloaded the Anaconda navigator make sure to delete it. and Download latest version compatible with your device.\n",
    "\n",
    "Other Required Packages are:\n",
    "- <span style=\"color:red\">pip install pypdf</span>\n",
    "- <span style=\"color:red\">pip install doc2txt</span>\n",
    "- <span style=\"color:red\">pip install --upgrade --quiet  langchain langchain-community azure-ai-documentintelligence</span>\n",
    "- <span style=\"color:red\">pip install wikipedia -q</span>\n",
    "\n",
    "If you have not installed langchain, then head over to this link ➡️ [langchain installation](https://python.langchain.com/docs/how_to/installation/) other wise you can simply install through, \n",
    "\n",
    "- <span style=\"color:red\">pip install langchain</span>\n",
    "- <span style=\"color:red\">pip install langchain-google-genai</span>\n",
    "\n",
    "NOTE: If you have any queries or need to get information on different types of documentation through the langchain you can go to this link. \n",
    "👉👉[langchain documentation loader](https://python.langchain.com/docs/integrations/document_loaders/)\n"
   ]
  },
  {
   "cell_type": "code",
   "execution_count": 1,
   "id": "2c1716d3",
   "metadata": {},
   "outputs": [
    {
     "data": {
      "text/plain": [
       "True"
      ]
     },
     "execution_count": 1,
     "metadata": {},
     "output_type": "execute_result"
    }
   ],
   "source": [
    "from langchain_google_genai import ChatGoogleGenerativeAI\n",
    "\n",
    "import os \n",
    "from dotenv import load_dotenv, find_dotenv\n",
    "load_dotenv(find_dotenv(), override=True)\n",
    "\n",
    "# os.path.splitext('../files/us_constitution.pdf')"
   ]
  },
  {
   "cell_type": "markdown",
   "id": "a5ee44c1",
   "metadata": {},
   "source": [
    "## Loading custom (Private) PDF Documents"
   ]
  },
  {
   "cell_type": "code",
   "execution_count": 4,
   "id": "d8b2852f",
   "metadata": {},
   "outputs": [],
   "source": [
    "# Load Private Data \n",
    "def load_document(file):\n",
    "    import os\n",
    "    name, extension = os.path.splitext(file)\n",
    "\n",
    "    # what if the extension is pdf\n",
    "    if extension == \".pdf\":\n",
    "        from langchain.document_loaders import PyPDFLoader\n",
    "        print(f\"Loading PDF file ......{file}\")\n",
    "        loader = PyPDFLoader(file)\n",
    "        print(f\"Done........\")\n",
    "    \n",
    "    # what if the extension is docx \n",
    "    elif extension == \".docx\":\n",
    "        from langchain.document_loaders import Docx2txtLoader\n",
    "        print(f\"Loading txt file.......{file}\")\n",
    "        loader = Docx2txtLoader(file)\n",
    "        print(f\"Done.......\")\n",
    "\n",
    "    # if the extension is txt, i am accessing with simple document opening style\n",
    "    elif extension == \".txt\":\n",
    "        print(\"Loading the txt file.....{file}\")\n",
    "        with open(file, 'rb') as f:\n",
    "            loader = f.read()\n",
    "            print(\"Done......\")\n",
    "\n",
    "            # since the loader is in the bytes structure and RecursiveCharacterTextSplitter wants\n",
    "            # in the string in the further code. so we might need to convert it into the string \n",
    "            if isinstance(loader, bytes):\n",
    "                loader = loader.decode('utf-8')             \n",
    "                \n",
    "            return loader\n",
    "        \n",
    "    else:\n",
    "        print(\"Document format is not supported!\")\n",
    "        return None \n",
    "\n",
    "    data = loader.load()\n",
    "    return data\n",
    "\n",
    "## there are other types of data also that I must need to use. "
   ]
  },
  {
   "cell_type": "code",
   "execution_count": 34,
   "id": "aaa90184",
   "metadata": {},
   "outputs": [
    {
     "name": "stdout",
     "output_type": "stream",
     "text": [
      "Loading the txt file.....{file}\n",
      "Done......\n",
      "let's look at whether our code is working :  I am honored to be with you today at your commencement from one of the finest universities in the wo\n"
     ]
    }
   ],
   "source": [
    "file_name = \"../files/sj.txt\"\n",
    "data = load_document(file_name)\n",
    "print(\"let's look at whether our code is working : \", data[:100])"
   ]
  },
  {
   "cell_type": "markdown",
   "id": "ff4f0b7e",
   "metadata": {},
   "source": [
    "## Loading Public documents (wikipedia)"
   ]
  },
  {
   "cell_type": "code",
   "execution_count": 5,
   "id": "65f64131",
   "metadata": {},
   "outputs": [],
   "source": [
    "# Load public document\n",
    "\n",
    "# Query is the what thing you want to search and load max = how many iterations of pages you want to show\n",
    "def load_wikipedia_document(query, lang='en', load_max=2):\n",
    "    from langchain_community.document_loaders import WikipediaLoader\n",
    "    docs = WikipediaLoader(query=query, load_max_docs=load_max).load()\n",
    "    return docs"
   ]
  },
  {
   "cell_type": "markdown",
   "id": "1dbca9d5",
   "metadata": {},
   "source": [
    "## Chunking Strategies and Splitting in Documents"
   ]
  },
  {
   "cell_type": "code",
   "execution_count": 26,
   "id": "ae092c7f",
   "metadata": {},
   "outputs": [],
   "source": [
    "# Splitting the paragraphs into smaller chunks. so we can easily store in the vector db \n",
    "def chunk_data(data, file_name, chunk_size=256):\n",
    "    from langchain.text_splitter import RecursiveCharacterTextSplitter\n",
    "    text_splitter = RecursiveCharacterTextSplitter(chunk_size=chunk_size, chunk_overlap=0)\n",
    "    \n",
    "    # If the user send us a file with extension 'txt' then i am not able to chunked it down with just splitting documents. \n",
    "    # and if the document consist of bytes then the we have to convert it to string so, \n",
    "    ext = os.path.splitext(file_name)\n",
    "    if '.txt' in ext:\n",
    "        if isinstance(data, bytes):\n",
    "            data = data.decode('utf-8')\n",
    "\n",
    "        chunks = text_splitter.create_documents([data])\n",
    "        return chunks\n",
    "    \n",
    "    chunks = text_splitter.split_documents(data)\n",
    "\n",
    "    return chunks\n",
    "\n",
    "# Embedding Cost \n",
    "def print_embedding_cost(texts):\n",
    "    import tiktoken\n",
    "    enc = tiktoken.encoding_for_model('text-embedding-ada-002')\n",
    "    total_tokens = sum([len(enc.encode(page.page_content)) for page in texts])\n",
    "    print(f\"Total Tokens: {total_tokens}\")\n",
    "    print(f\"Embedding Cost in USD: {total_tokens / 1000 * 0.0004:.6f}\")\n"
   ]
  },
  {
   "cell_type": "code",
   "execution_count": 36,
   "id": "89fae443",
   "metadata": {},
   "outputs": [
    {
     "name": "stdout",
     "output_type": "stream",
     "text": [
      "example:  from my life. That’s it. No big deal. Just three stories.\n"
     ]
    }
   ],
   "source": [
    "chunks = chunk_data(data, file_name)\n",
    "print(\"example: \", chunks[1].page_content)"
   ]
  },
  {
   "cell_type": "markdown",
   "id": "91df066d",
   "metadata": {},
   "source": [
    "# Deleting Pinecone Index "
   ]
  },
  {
   "cell_type": "code",
   "execution_count": 38,
   "id": "2abcfbc4",
   "metadata": {},
   "outputs": [],
   "source": [
    "def delete_pinecone_index(index_name=\"all\"):\n",
    "    from pinecone import Pinecone, ServerlessSpec\n",
    "\n",
    "    pc = Pinecone(\n",
    "        api_key=os.environ.get(\"PINECONE_API_KEY\")\n",
    "    )\n",
    "\n",
    "    if index_name == \"all\":\n",
    "        indexes = pc.list_indexes()\n",
    "        print(\"Deleting all indexes...\")\n",
    "        for index in indexes:\n",
    "            pc.delete_index(index.name)\n",
    "            print(f\"completed deleting index {index.name}\")\n",
    "    else:\n",
    "        print(f\"Deleting index {index_name}\")\n",
    "        pc.delete_index(index_name)\n",
    "        print(\"Done...\")"
   ]
  },
  {
   "cell_type": "code",
   "execution_count": 39,
   "id": "36f50c44",
   "metadata": {},
   "outputs": [
    {
     "name": "stdout",
     "output_type": "stream",
     "text": [
      "Deleting the indexes if it exist in the pinecone .\n",
      "Deleting all indexes...\n",
      "completed deleting index askadocument\n"
     ]
    }
   ],
   "source": [
    "print(f\"Deleting the indexes if it exist in the pinecone .\")\n",
    "delete_pinecone_index()"
   ]
  },
  {
   "cell_type": "markdown",
   "id": "0c7a8c6d",
   "metadata": {},
   "source": [
    "# Initializing a pinecone api "
   ]
  },
  {
   "cell_type": "code",
   "execution_count": 41,
   "id": "ee1c0d27",
   "metadata": {},
   "outputs": [],
   "source": [
    "from pinecone import Pinecone\n",
    "\n",
    "pc = Pinecone(\n",
    "        api=os.environ.get(\"PINECONE_API_KEY\")\n",
    "    )"
   ]
  },
  {
   "cell_type": "markdown",
   "id": "ba87aa51",
   "metadata": {},
   "source": [
    "# Creating a New index "
   ]
  },
  {
   "cell_type": "code",
   "execution_count": 42,
   "id": "41f44621",
   "metadata": {},
   "outputs": [],
   "source": [
    "def creating_new_index(index_name):\n",
    "    from pinecone import ServerlessSpec\n",
    "    from langchain_pinecone import PineconeVectorStore\n",
    "    from langchain_google_genai import GoogleGenerativeAIEmbeddings\n",
    "\n",
    "    if index_name not in pc.list_indexes():\n",
    "        # if we could not find the index-name in the pinecone we have to create a new one\n",
    "        print(f\"Creating an index name...........{index_name}\")\n",
    "        pc.create_index(\n",
    "            index_name,\n",
    "            dimension=3072,\n",
    "            metric='cosine',\n",
    "            spec=ServerlessSpec(\n",
    "                cloud='aws',\n",
    "                region='us-east-1'\n",
    "            )\n",
    "        )\n",
    "        print(\"Done creating Index..\")\n",
    "\n",
    "    else:\n",
    "        print(f\"Index {index_name} already exists.....\", ends='')\n",
    "    "
   ]
  },
  {
   "cell_type": "code",
   "execution_count": 43,
   "id": "dd6fdadb",
   "metadata": {},
   "outputs": [
    {
     "name": "stderr",
     "output_type": "stream",
     "text": [
      "c:\\Users\\Asus\\anaconda3\\envs\\llms\\Lib\\site-packages\\langchain_pinecone\\__init__.py:3: LangChainDeprecationWarning: As of langchain-core 0.3.0, LangChain uses pydantic v2 internally. The langchain_core.pydantic_v1 module was a compatibility shim for pydantic v1, and should no longer be used. Please update the code to import from Pydantic directly.\n",
      "\n",
      "For example, replace imports like: `from langchain_core.pydantic_v1 import BaseModel`\n",
      "with: `from pydantic import BaseModel`\n",
      "or the v1 compatibility namespace if you are working in a code base that has not been fully upgraded to pydantic 2 yet. \tfrom pydantic.v1 import BaseModel\n",
      "\n",
      "  from langchain_pinecone.vectorstores import Pinecone, PineconeVectorStore\n"
     ]
    },
    {
     "name": "stdout",
     "output_type": "stream",
     "text": [
      "Creating an index name...........askadocument\n",
      "Done creating Index..\n"
     ]
    }
   ],
   "source": [
    "index_name = \"askadocument\"\n",
    "creating_new_index(index_name)"
   ]
  },
  {
   "cell_type": "markdown",
   "id": "09dd5e1c",
   "metadata": {},
   "source": [
    "# Fetching a Index if index_name exists "
   ]
  },
  {
   "cell_type": "code",
   "execution_count": 44,
   "id": "beac5465",
   "metadata": {},
   "outputs": [],
   "source": [
    "def fetching_index(index_name):\n",
    "    from langchain_pinecone import PineconeVectorStore\n",
    "\n",
    "    if index_name in pc.list_indexes():\n",
    "        print(f\"Index {index_name} already exists. Loading embeddings.....\", ends='')\n",
    "        vector_store = Pinecone.from_existing_index(index_name, embeddings)\n",
    "        print(\"Done \")\n",
    "\n",
    "    return vector_store\n",
    "        "
   ]
  },
  {
   "cell_type": "markdown",
   "id": "19669a59",
   "metadata": {},
   "source": [
    "# Connecting with Index in Pinecone"
   ]
  },
  {
   "cell_type": "code",
   "execution_count": 45,
   "id": "0c20f5a1",
   "metadata": {},
   "outputs": [
    {
     "name": "stdout",
     "output_type": "stream",
     "text": [
      "Connecting with index....askadocument\n",
      "Completed....\n",
      "{'dimension': 3072,\n",
      " 'index_fullness': 0.0,\n",
      " 'metric': 'cosine',\n",
      " 'namespaces': {},\n",
      " 'total_vector_count': 0,\n",
      " 'vector_type': 'dense'}\n"
     ]
    }
   ],
   "source": [
    "print(f\"Connecting with index....{index_name}\")\n",
    "index = pc.Index(index_name)\n",
    "print(\"Completed....\")\n",
    "print(index.describe_index_stats())"
   ]
  },
  {
   "cell_type": "markdown",
   "id": "8206081f",
   "metadata": {},
   "source": [
    "# Storing the chunks in the vectors "
   ]
  },
  {
   "cell_type": "code",
   "execution_count": 49,
   "id": "777a04cf",
   "metadata": {},
   "outputs": [],
   "source": [
    "# $if you have created new index and you are storing the document in to the vector then only use this function \n",
    "def embedding_and_storing(index_name, chunks):\n",
    "\n",
    "    from langchain_pinecone import PineconeVectorStore\n",
    "    from langchain_google_genai import GoogleGenerativeAIEmbeddings\n",
    "\n",
    "    embeddings = GoogleGenerativeAIEmbeddings(model=\"models/gemini-embedding-001\")\n",
    "\n",
    "    print(\"only applicable if you have created a new Index....\")\n",
    "    vectorstore = PineconeVectorStore.from_documents(\n",
    "        documents=chunks,\n",
    "        embedding=embeddings,\n",
    "        index_name=index_name\n",
    "    )\n",
    "    print(\"Documents successfully uploaded to pinecone!!\")\n",
    "\n",
    "    return vectorstore"
   ]
  },
  {
   "cell_type": "code",
   "execution_count": 50,
   "id": "0d5268ba",
   "metadata": {},
   "outputs": [
    {
     "name": "stdout",
     "output_type": "stream",
     "text": [
      "only applicable if you have created a new Index....\n",
      "Documents successfully uploaded to pinecone!!\n",
      "<langchain_pinecone.vectorstores.PineconeVectorStore object at 0x0000022BBCF714D0>\n"
     ]
    }
   ],
   "source": [
    "vector = embedding_and_storing(index_name, chunks)\n",
    "print(vector)"
   ]
  },
  {
   "cell_type": "markdown",
   "id": "9f03bba9",
   "metadata": {},
   "source": [
    "# Chatting a chatbot "
   ]
  },
  {
   "cell_type": "code",
   "execution_count": 47,
   "id": "22037656",
   "metadata": {},
   "outputs": [],
   "source": [
    "def ask_and_get_answer(vectorstore, q):\n",
    "    from langchain.chains import RetrievalQA\n",
    "    from langchain_google_genai import ChatGoogleGenerativeAI\n",
    "\n",
    "    llm = ChatGoogleGenerativeAI(model=\"gemini-2.5-flash\", temperature=0)\n",
    "    retriever = vectorstore.as_retriever(search_type='similarity', search_kwargs={'k': 3})\n",
    "    chain = RetrievalQA.from_chain_type(llm=llm, chain_type='stuff', retriever=retriever)\n",
    "    answer = chain.invoke(q)\n",
    "    return answer"
   ]
  },
  {
   "cell_type": "code",
   "execution_count": null,
   "id": "1d6b91a2",
   "metadata": {},
   "outputs": [
    {
     "name": "stdout",
     "output_type": "stream",
     "text": [
      "write Quit or Exit to quit: \n",
      "\n",
      "question #1: \n",
      " what was the second and third story in the given context.\n",
      "answer #1 The second story was about love and loss.\n",
      "The third story was about death.\n",
      "\n",
      "----------------------------------------\n",
      "\n",
      "\n",
      "question #2: \n",
      " What is the conclusion and what narrative is telling us \n",
      "answer #2 Based on the provided fragments, it's impossible to identify a conclusion or fully understand what narrative is being told.\n",
      "\n",
      "*   The phrase \"very, very clear looking backward 10 years later\" suggests a **reflection** on past events or decisions, implying a lesson or realization has been made over time. However, we don't know *what* became clear.\n",
      "*   \"My third story is about death\" indicates that the speaker is sharing a series of personal narratives, and this is the introduction to one of them. It's an **introduction to a topic**, not a conclusion to the overall narrative.\n",
      "\n",
      "Without the preceding \"stories\" or the context of what became \"very, very clear,\" we cannot determine the conclusion or the full message of the narrative.\n",
      "\n",
      "----------------------------------------\n",
      "\n",
      "Quitting...bye bye\n"
     ]
    }
   ],
   "source": [
    "import time \n",
    "i = 0\n",
    "print(\"write Quit or Exit to quit: \")\n",
    "while True:\n",
    "    q = input(f\"Question #{i}\")\n",
    "    i = i + 1\n",
    "    if q.lower() in ['quit', 'exit']:\n",
    "        print(\"Quitting...bye bye\")\n",
    "        time.sleep(2)\n",
    "        break\n",
    "    print(f\"\\nquestion #{i}:\", q)\n",
    "    answer = ask_and_get_answer(vector, q)\n",
    "    print(f\"\\nanswer #{i}:\", answer['result'])\n",
    "    print(f\"\\n{'-' * 40}\\n\")\n"
   ]
  },
  {
   "cell_type": "markdown",
   "id": "2bfc2f9e",
   "metadata": {},
   "source": [
    "# Asking a chatbot with memory "
   ]
  },
  {
   "cell_type": "code",
   "execution_count": 48,
   "id": "5e3c53b3",
   "metadata": {},
   "outputs": [],
   "source": [
    "def ask_with_memory(vector_store, question, chat_history=[]):\n",
    "    from langchain.chains import ConversationalRetrievalChain\n",
    "    from langchain_google_genai import ChatGoogleGenerativeAI\n",
    "\n",
    "    llm = ChatGoogleGenerativeAI(model='gemini-2.5-flash' , temperature=1)\n",
    "    retriever = vector_store.as_retriever(search_type='similarity', search_kwargs={'k': 3})\n",
    "\n",
    "    crc = ConversationalRetrievalChain.from_llm(llm, retriever)\n",
    "    result = crc({'question': question, 'chat_history': chat_history})\n",
    "    chat_history.append((question, result['answer']))\n",
    "    return result, chat_history"
   ]
  },
  {
   "cell_type": "code",
   "execution_count": 52,
   "id": "223f705d",
   "metadata": {},
   "outputs": [
    {
     "name": "stderr",
     "output_type": "stream",
     "text": [
      "C:\\Users\\Asus\\AppData\\Local\\Temp\\ipykernel_12152\\1403491054.py:9: LangChainDeprecationWarning: The method `Chain.__call__` was deprecated in langchain 0.1.0 and will be removed in 1.0. Use :meth:`~invoke` instead.\n",
      "  result = crc({'question': question, 'chat_history': chat_history})\n"
     ]
    },
    {
     "name": "stdout",
     "output_type": "stream",
     "text": [
      "There are 57 words in the provided documents.\n"
     ]
    }
   ],
   "source": [
    "chat_history = []\n",
    "question1 = \"How many words are present in the total documents ?\"\n",
    "result, chat_history = ask_with_memory(vector, question1, chat_history)\n",
    "print(result['answer'])"
   ]
  },
  {
   "cell_type": "code",
   "execution_count": 53,
   "id": "ab858579",
   "metadata": {},
   "outputs": [
    {
     "name": "stdout",
     "output_type": "stream",
     "text": [
      "[('How many words are present in the total documents ?', 'There are 57 words in the provided documents.')]\n"
     ]
    }
   ],
   "source": [
    "print(chat_history)"
   ]
  },
  {
   "cell_type": "code",
   "execution_count": 55,
   "id": "797343b2",
   "metadata": {},
   "outputs": [
    {
     "name": "stdout",
     "output_type": "stream",
     "text": [
      "Let's count the words in each document:\n",
      "\n",
      "1.  \"together.\" - 1 word\n",
      "2.  \"very, very clear looking backward 10 years later.\" - 8 words\n",
      "3.  \"and overflowing with neat tools and great notions.\" - 9 words\n",
      "\n",
      "Total number of words = 1 + 8 + 9 = 18 words.\n",
      "\n",
      "Now, let's perform the calculation:\n",
      "(18 words * 2) * 2 = 36 * 2 = 72\n"
     ]
    }
   ],
   "source": [
    "question2 = \"multiply the above answer by 2\"\n",
    "result, chat_history = ask_with_memory(vector, question2, chat_history)\n",
    "print(result['answer'])"
   ]
  },
  {
   "cell_type": "code",
   "execution_count": 56,
   "id": "97f09e84",
   "metadata": {},
   "outputs": [
    {
     "name": "stdout",
     "output_type": "stream",
     "text": [
      "[('How many words are present in the total documents ?', 'There are 57 words in the provided documents.'), ('multiply the number of words in document by 2', \"I don't know the answer to that, as the provided context does not contain information to solve mathematical problems.\"), ('multiply the above answer by 2', 'Let\\'s count the words in each document:\\n\\n1.  \"together.\" - 1 word\\n2.  \"very, very clear looking backward 10 years later.\" - 8 words\\n3.  \"and overflowing with neat tools and great notions.\" - 9 words\\n\\nTotal number of words = 1 + 8 + 9 = 18 words.\\n\\nNow, let\\'s perform the calculation:\\n(18 words * 2) * 2 = 36 * 2 = 72')]\n"
     ]
    }
   ],
   "source": [
    "print(chat_history)"
   ]
  },
  {
   "cell_type": "code",
   "execution_count": 57,
   "id": "978459ee",
   "metadata": {},
   "outputs": [],
   "source": [
    "# In here i have told the chat to multiply the document , no of words by 2, but it assume that i have told him to count the number of word present in \n",
    "# chunk no 1, and i have already told chat to multiply by 2 (two time), so  it calculated 72, as we can see in the chat history"
   ]
  },
  {
   "cell_type": "markdown",
   "id": "0d5b5935",
   "metadata": {},
   "source": [
    "# Checking and Debbugging"
   ]
  },
  {
   "cell_type": "code",
   "execution_count": null,
   "id": "aa4565b5",
   "metadata": {},
   "outputs": [],
   "source": [
    "data = load_document('../files/attention_is_all_you_need.pdf')\n",
    "print(data[0].page_content)\n",
    "print(data[1].metadata)\n",
    "print(f\"you have {len(data)} pages in your data\")\n",
    "print(f\"There are {len(data[14].page_content)} characters in the page no 19\")\n",
    "\n",
    "# data = load_document('../files/the_great_gatsby.docx')\n",
    "# print(f\"You have {len(data)} number of pages in your data.\")\n",
    "\n",
    "# data = load_document(\"../files/churchill_speech.txt\")\n",
    "# print(f\"You have number of pages inside {len(data)} and appoximately.\")\n",
    "\n",
    "# result = load_wikipedia_document(\"hunter x hunter\", 2)\n",
    "# print(result[0].metadata)\n",
    "# print()\n",
    "# print(result[0].page_content)\n"
   ]
  },
  {
   "cell_type": "code",
   "execution_count": null,
   "id": "ed4a247a",
   "metadata": {},
   "outputs": [],
   "source": [
    "chunk = chunk_data(data) \n",
    "print(\"size of chunk: \", len(chunk))\n",
    "print(chunk[0].page_content)"
   ]
  },
  {
   "cell_type": "code",
   "execution_count": 9,
   "id": "00b93ba8",
   "metadata": {},
   "outputs": [
    {
     "name": "stdout",
     "output_type": "stream",
     "text": [
      "60\n"
     ]
    }
   ],
   "source": [
    "from langchain.text_splitter import RecursiveCharacterTextSplitter\n",
    "text_splitter = RecursiveCharacterTextSplitter(chunk_size=256, chunk_overlap=0, length_function=len)\n",
    "if isinstance(data, bytes):\n",
    "    data = data.decode('utf-8')\n",
    "chunks = text_splitter.create_documents([data])\n",
    "\n",
    "print(len(chunks))"
   ]
  },
  {
   "cell_type": "code",
   "execution_count": 43,
   "id": "cdead439",
   "metadata": {},
   "outputs": [
    {
     "name": "stdout",
     "output_type": "stream",
     "text": [
      "191\n"
     ]
    }
   ],
   "source": [
    "print(len(chunk))"
   ]
  },
  {
   "cell_type": "code",
   "execution_count": 10,
   "id": "ecdef79a",
   "metadata": {},
   "outputs": [
    {
     "name": "stdout",
     "output_type": "stream",
     "text": [
      "Total Tokens: 9842\n",
      "Embedding Cost in USD: 0.003937\n"
     ]
    }
   ],
   "source": [
    "print_embedding_cost(chunk)"
   ]
  },
  {
   "cell_type": "code",
   "execution_count": null,
   "id": "4953287f",
   "metadata": {},
   "outputs": [
    {
     "name": "stdout",
     "output_type": "stream",
     "text": [
      "The provided text states that the person went to college 17 years later, but it does not explain *why* they went at that specific time.\n",
      "\n",
      "It also states that they \"naively chose a college that was almost as expensive as Stanford,\" but it does not explain *why* they made that naive choice.\n"
     ]
    }
   ],
   "source": [
    "query = \"After 17 years later why the person did go to college and naively chose a most expensive college ?\"\n",
    "answer = ask_and_get_answer(vector, query)\n",
    "print(answer['result'])"
   ]
  },
  {
   "cell_type": "code",
   "execution_count": 74,
   "id": "f3c93f02",
   "metadata": {},
   "outputs": [],
   "source": [
    "query = \"what is ChatGPT ? and which model is the latest ?\"\n",
    "data = load_wikipedia_document('ChatGPT', 'nep')\n",
    "chunks = chunk_data(data)"
   ]
  },
  {
   "cell_type": "code",
   "execution_count": null,
   "id": "9bc25ed4",
   "metadata": {},
   "outputs": [],
   "source": [
    "index_name = \"chatgpt\""
   ]
  },
  {
   "cell_type": "code",
   "execution_count": 75,
   "id": "dafa7445",
   "metadata": {},
   "outputs": [
    {
     "name": "stdout",
     "output_type": "stream",
     "text": [
      "[Document(metadata={'title': 'ChatGPT', 'summary': \"ChatGPT is a generative artificial intelligence chatbot developed by OpenAI and released in 2022. It currently uses GPT-5, a generative pre-trained transformer (GPT), to generate text, speech, and images in response to user prompts. It is credited with accelerating the AI boom, an ongoing period of rapid investment in and public attention to the field of artificial intelligence (AI). OpenAI operates the service on a freemium model. ChatGPT's website is among the 5 most-visited websites globally as of 2025.\\nBy January 2023, ChatGPT had become the fastest-growing consumer software application in history, gaining over 100 million users in two months. Users can interact with ChatGPT through text, audio, and image prompts. It has been lauded as a revolutionary tool that could transform numerous professional fields. At the same time, its release prompted extensive media coverage and public debate about the nature of creativity and the future of knowledge work.\\nDespite its acclaim, the chatbot has been criticized for its limitations and potential for unethical use. It can generate plausible-sounding but incorrect or nonsensical answers known as hallucinations. Biases in its training data have been reflected in its responses. The chatbot can facilitate academic dishonesty, generate misinformation, and create malicious code. The ethics of its development, particularly the use of copyrighted content as training data, have also drawn controversy. These issues have led to its use being restricted in some workplaces and educational institutions and have prompted widespread calls for the regulation of artificial intelligence.\", 'source': 'https://en.wikipedia.org/wiki/ChatGPT'}, page_content='ChatGPT is a generative artificial intelligence chatbot developed by OpenAI and released in 2022. It currently uses GPT-5, a generative pre-trained transformer (GPT), to generate text, speech, and images in response to user prompts. It is credited with'), Document(metadata={'title': 'ChatGPT', 'summary': \"ChatGPT is a generative artificial intelligence chatbot developed by OpenAI and released in 2022. It currently uses GPT-5, a generative pre-trained transformer (GPT), to generate text, speech, and images in response to user prompts. It is credited with accelerating the AI boom, an ongoing period of rapid investment in and public attention to the field of artificial intelligence (AI). OpenAI operates the service on a freemium model. ChatGPT's website is among the 5 most-visited websites globally as of 2025.\\nBy January 2023, ChatGPT had become the fastest-growing consumer software application in history, gaining over 100 million users in two months. Users can interact with ChatGPT through text, audio, and image prompts. It has been lauded as a revolutionary tool that could transform numerous professional fields. At the same time, its release prompted extensive media coverage and public debate about the nature of creativity and the future of knowledge work.\\nDespite its acclaim, the chatbot has been criticized for its limitations and potential for unethical use. It can generate plausible-sounding but incorrect or nonsensical answers known as hallucinations. Biases in its training data have been reflected in its responses. The chatbot can facilitate academic dishonesty, generate misinformation, and create malicious code. The ethics of its development, particularly the use of copyrighted content as training data, have also drawn controversy. These issues have led to its use being restricted in some workplaces and educational institutions and have prompted widespread calls for the regulation of artificial intelligence.\", 'source': 'https://en.wikipedia.org/wiki/ChatGPT'}, page_content=\"accelerating the AI boom, an ongoing period of rapid investment in and public attention to the field of artificial intelligence (AI). OpenAI operates the service on a freemium model. ChatGPT's website is among the 5 most-visited websites globally as of\"), Document(metadata={'title': 'ChatGPT', 'summary': \"ChatGPT is a generative artificial intelligence chatbot developed by OpenAI and released in 2022. It currently uses GPT-5, a generative pre-trained transformer (GPT), to generate text, speech, and images in response to user prompts. It is credited with accelerating the AI boom, an ongoing period of rapid investment in and public attention to the field of artificial intelligence (AI). OpenAI operates the service on a freemium model. ChatGPT's website is among the 5 most-visited websites globally as of 2025.\\nBy January 2023, ChatGPT had become the fastest-growing consumer software application in history, gaining over 100 million users in two months. Users can interact with ChatGPT through text, audio, and image prompts. It has been lauded as a revolutionary tool that could transform numerous professional fields. At the same time, its release prompted extensive media coverage and public debate about the nature of creativity and the future of knowledge work.\\nDespite its acclaim, the chatbot has been criticized for its limitations and potential for unethical use. It can generate plausible-sounding but incorrect or nonsensical answers known as hallucinations. Biases in its training data have been reflected in its responses. The chatbot can facilitate academic dishonesty, generate misinformation, and create malicious code. The ethics of its development, particularly the use of copyrighted content as training data, have also drawn controversy. These issues have led to its use being restricted in some workplaces and educational institutions and have prompted widespread calls for the regulation of artificial intelligence.\", 'source': 'https://en.wikipedia.org/wiki/ChatGPT'}, page_content='2025.'), Document(metadata={'title': 'ChatGPT', 'summary': \"ChatGPT is a generative artificial intelligence chatbot developed by OpenAI and released in 2022. It currently uses GPT-5, a generative pre-trained transformer (GPT), to generate text, speech, and images in response to user prompts. It is credited with accelerating the AI boom, an ongoing period of rapid investment in and public attention to the field of artificial intelligence (AI). OpenAI operates the service on a freemium model. ChatGPT's website is among the 5 most-visited websites globally as of 2025.\\nBy January 2023, ChatGPT had become the fastest-growing consumer software application in history, gaining over 100 million users in two months. Users can interact with ChatGPT through text, audio, and image prompts. It has been lauded as a revolutionary tool that could transform numerous professional fields. At the same time, its release prompted extensive media coverage and public debate about the nature of creativity and the future of knowledge work.\\nDespite its acclaim, the chatbot has been criticized for its limitations and potential for unethical use. It can generate plausible-sounding but incorrect or nonsensical answers known as hallucinations. Biases in its training data have been reflected in its responses. The chatbot can facilitate academic dishonesty, generate misinformation, and create malicious code. The ethics of its development, particularly the use of copyrighted content as training data, have also drawn controversy. These issues have led to its use being restricted in some workplaces and educational institutions and have prompted widespread calls for the regulation of artificial intelligence.\", 'source': 'https://en.wikipedia.org/wiki/ChatGPT'}, page_content='By January 2023, ChatGPT had become the fastest-growing consumer software application in history, gaining over 100 million users in two months. Users can interact with ChatGPT through text, audio, and image prompts. It has been lauded as a revolutionary'), Document(metadata={'title': 'ChatGPT', 'summary': \"ChatGPT is a generative artificial intelligence chatbot developed by OpenAI and released in 2022. It currently uses GPT-5, a generative pre-trained transformer (GPT), to generate text, speech, and images in response to user prompts. It is credited with accelerating the AI boom, an ongoing period of rapid investment in and public attention to the field of artificial intelligence (AI). OpenAI operates the service on a freemium model. ChatGPT's website is among the 5 most-visited websites globally as of 2025.\\nBy January 2023, ChatGPT had become the fastest-growing consumer software application in history, gaining over 100 million users in two months. Users can interact with ChatGPT through text, audio, and image prompts. It has been lauded as a revolutionary tool that could transform numerous professional fields. At the same time, its release prompted extensive media coverage and public debate about the nature of creativity and the future of knowledge work.\\nDespite its acclaim, the chatbot has been criticized for its limitations and potential for unethical use. It can generate plausible-sounding but incorrect or nonsensical answers known as hallucinations. Biases in its training data have been reflected in its responses. The chatbot can facilitate academic dishonesty, generate misinformation, and create malicious code. The ethics of its development, particularly the use of copyrighted content as training data, have also drawn controversy. These issues have led to its use being restricted in some workplaces and educational institutions and have prompted widespread calls for the regulation of artificial intelligence.\", 'source': 'https://en.wikipedia.org/wiki/ChatGPT'}, page_content='tool that could transform numerous professional fields. At the same time, its release prompted extensive media coverage and public debate about the nature of creativity and the future of knowledge work.'), Document(metadata={'title': 'ChatGPT', 'summary': \"ChatGPT is a generative artificial intelligence chatbot developed by OpenAI and released in 2022. It currently uses GPT-5, a generative pre-trained transformer (GPT), to generate text, speech, and images in response to user prompts. It is credited with accelerating the AI boom, an ongoing period of rapid investment in and public attention to the field of artificial intelligence (AI). OpenAI operates the service on a freemium model. ChatGPT's website is among the 5 most-visited websites globally as of 2025.\\nBy January 2023, ChatGPT had become the fastest-growing consumer software application in history, gaining over 100 million users in two months. Users can interact with ChatGPT through text, audio, and image prompts. It has been lauded as a revolutionary tool that could transform numerous professional fields. At the same time, its release prompted extensive media coverage and public debate about the nature of creativity and the future of knowledge work.\\nDespite its acclaim, the chatbot has been criticized for its limitations and potential for unethical use. It can generate plausible-sounding but incorrect or nonsensical answers known as hallucinations. Biases in its training data have been reflected in its responses. The chatbot can facilitate academic dishonesty, generate misinformation, and create malicious code. The ethics of its development, particularly the use of copyrighted content as training data, have also drawn controversy. These issues have led to its use being restricted in some workplaces and educational institutions and have prompted widespread calls for the regulation of artificial intelligence.\", 'source': 'https://en.wikipedia.org/wiki/ChatGPT'}, page_content='Despite its acclaim, the chatbot has been criticized for its limitations and potential for unethical use. It can generate plausible-sounding but incorrect or nonsensical answers known as hallucinations. Biases in its training data have been reflected in'), Document(metadata={'title': 'ChatGPT', 'summary': \"ChatGPT is a generative artificial intelligence chatbot developed by OpenAI and released in 2022. It currently uses GPT-5, a generative pre-trained transformer (GPT), to generate text, speech, and images in response to user prompts. It is credited with accelerating the AI boom, an ongoing period of rapid investment in and public attention to the field of artificial intelligence (AI). OpenAI operates the service on a freemium model. ChatGPT's website is among the 5 most-visited websites globally as of 2025.\\nBy January 2023, ChatGPT had become the fastest-growing consumer software application in history, gaining over 100 million users in two months. Users can interact with ChatGPT through text, audio, and image prompts. It has been lauded as a revolutionary tool that could transform numerous professional fields. At the same time, its release prompted extensive media coverage and public debate about the nature of creativity and the future of knowledge work.\\nDespite its acclaim, the chatbot has been criticized for its limitations and potential for unethical use. It can generate plausible-sounding but incorrect or nonsensical answers known as hallucinations. Biases in its training data have been reflected in its responses. The chatbot can facilitate academic dishonesty, generate misinformation, and create malicious code. The ethics of its development, particularly the use of copyrighted content as training data, have also drawn controversy. These issues have led to its use being restricted in some workplaces and educational institutions and have prompted widespread calls for the regulation of artificial intelligence.\", 'source': 'https://en.wikipedia.org/wiki/ChatGPT'}, page_content='its responses. The chatbot can facilitate academic dishonesty, generate misinformation, and create malicious code. The ethics of its development, particularly the use of copyrighted content as training data, have also drawn controversy. These issues have'), Document(metadata={'title': 'ChatGPT', 'summary': \"ChatGPT is a generative artificial intelligence chatbot developed by OpenAI and released in 2022. It currently uses GPT-5, a generative pre-trained transformer (GPT), to generate text, speech, and images in response to user prompts. It is credited with accelerating the AI boom, an ongoing period of rapid investment in and public attention to the field of artificial intelligence (AI). OpenAI operates the service on a freemium model. ChatGPT's website is among the 5 most-visited websites globally as of 2025.\\nBy January 2023, ChatGPT had become the fastest-growing consumer software application in history, gaining over 100 million users in two months. Users can interact with ChatGPT through text, audio, and image prompts. It has been lauded as a revolutionary tool that could transform numerous professional fields. At the same time, its release prompted extensive media coverage and public debate about the nature of creativity and the future of knowledge work.\\nDespite its acclaim, the chatbot has been criticized for its limitations and potential for unethical use. It can generate plausible-sounding but incorrect or nonsensical answers known as hallucinations. Biases in its training data have been reflected in its responses. The chatbot can facilitate academic dishonesty, generate misinformation, and create malicious code. The ethics of its development, particularly the use of copyrighted content as training data, have also drawn controversy. These issues have led to its use being restricted in some workplaces and educational institutions and have prompted widespread calls for the regulation of artificial intelligence.\", 'source': 'https://en.wikipedia.org/wiki/ChatGPT'}, page_content='led to its use being restricted in some workplaces and educational institutions and have prompted widespread calls for the regulation of artificial intelligence.'), Document(metadata={'title': 'ChatGPT', 'summary': \"ChatGPT is a generative artificial intelligence chatbot developed by OpenAI and released in 2022. It currently uses GPT-5, a generative pre-trained transformer (GPT), to generate text, speech, and images in response to user prompts. It is credited with accelerating the AI boom, an ongoing period of rapid investment in and public attention to the field of artificial intelligence (AI). OpenAI operates the service on a freemium model. ChatGPT's website is among the 5 most-visited websites globally as of 2025.\\nBy January 2023, ChatGPT had become the fastest-growing consumer software application in history, gaining over 100 million users in two months. Users can interact with ChatGPT through text, audio, and image prompts. It has been lauded as a revolutionary tool that could transform numerous professional fields. At the same time, its release prompted extensive media coverage and public debate about the nature of creativity and the future of knowledge work.\\nDespite its acclaim, the chatbot has been criticized for its limitations and potential for unethical use. It can generate plausible-sounding but incorrect or nonsensical answers known as hallucinations. Biases in its training data have been reflected in its responses. The chatbot can facilitate academic dishonesty, generate misinformation, and create malicious code. The ethics of its development, particularly the use of copyrighted content as training data, have also drawn controversy. These issues have led to its use being restricted in some workplaces and educational institutions and have prompted widespread calls for the regulation of artificial intelligence.\", 'source': 'https://en.wikipedia.org/wiki/ChatGPT'}, page_content='== Training =='), Document(metadata={'title': 'ChatGPT', 'summary': \"ChatGPT is a generative artificial intelligence chatbot developed by OpenAI and released in 2022. It currently uses GPT-5, a generative pre-trained transformer (GPT), to generate text, speech, and images in response to user prompts. It is credited with accelerating the AI boom, an ongoing period of rapid investment in and public attention to the field of artificial intelligence (AI). OpenAI operates the service on a freemium model. ChatGPT's website is among the 5 most-visited websites globally as of 2025.\\nBy January 2023, ChatGPT had become the fastest-growing consumer software application in history, gaining over 100 million users in two months. Users can interact with ChatGPT through text, audio, and image prompts. It has been lauded as a revolutionary tool that could transform numerous professional fields. At the same time, its release prompted extensive media coverage and public debate about the nature of creativity and the future of knowledge work.\\nDespite its acclaim, the chatbot has been criticized for its limitations and potential for unethical use. It can generate plausible-sounding but incorrect or nonsensical answers known as hallucinations. Biases in its training data have been reflected in its responses. The chatbot can facilitate academic dishonesty, generate misinformation, and create malicious code. The ethics of its development, particularly the use of copyrighted content as training data, have also drawn controversy. These issues have led to its use being restricted in some workplaces and educational institutions and have prompted widespread calls for the regulation of artificial intelligence.\", 'source': 'https://en.wikipedia.org/wiki/ChatGPT'}, page_content='ChatGPT is based on GPT foundation models that have been fine-tuned for conversational assistance. The fine-tuning process involved supervised learning and reinforcement learning from human feedback (RLHF). Both approaches employed human trainers to'), Document(metadata={'title': 'ChatGPT', 'summary': \"ChatGPT is a generative artificial intelligence chatbot developed by OpenAI and released in 2022. It currently uses GPT-5, a generative pre-trained transformer (GPT), to generate text, speech, and images in response to user prompts. It is credited with accelerating the AI boom, an ongoing period of rapid investment in and public attention to the field of artificial intelligence (AI). OpenAI operates the service on a freemium model. ChatGPT's website is among the 5 most-visited websites globally as of 2025.\\nBy January 2023, ChatGPT had become the fastest-growing consumer software application in history, gaining over 100 million users in two months. Users can interact with ChatGPT through text, audio, and image prompts. It has been lauded as a revolutionary tool that could transform numerous professional fields. At the same time, its release prompted extensive media coverage and public debate about the nature of creativity and the future of knowledge work.\\nDespite its acclaim, the chatbot has been criticized for its limitations and potential for unethical use. It can generate plausible-sounding but incorrect or nonsensical answers known as hallucinations. Biases in its training data have been reflected in its responses. The chatbot can facilitate academic dishonesty, generate misinformation, and create malicious code. The ethics of its development, particularly the use of copyrighted content as training data, have also drawn controversy. These issues have led to its use being restricted in some workplaces and educational institutions and have prompted widespread calls for the regulation of artificial intelligence.\", 'source': 'https://en.wikipedia.org/wiki/ChatGPT'}, page_content='improve model performance. In the case of supervised learning, the trainers acted as both the user and the AI assistant. In the reinforcement learning stage, human trainers first ranked responses generated by the model in previous conversations. These'), Document(metadata={'title': 'ChatGPT', 'summary': \"ChatGPT is a generative artificial intelligence chatbot developed by OpenAI and released in 2022. It currently uses GPT-5, a generative pre-trained transformer (GPT), to generate text, speech, and images in response to user prompts. It is credited with accelerating the AI boom, an ongoing period of rapid investment in and public attention to the field of artificial intelligence (AI). OpenAI operates the service on a freemium model. ChatGPT's website is among the 5 most-visited websites globally as of 2025.\\nBy January 2023, ChatGPT had become the fastest-growing consumer software application in history, gaining over 100 million users in two months. Users can interact with ChatGPT through text, audio, and image prompts. It has been lauded as a revolutionary tool that could transform numerous professional fields. At the same time, its release prompted extensive media coverage and public debate about the nature of creativity and the future of knowledge work.\\nDespite its acclaim, the chatbot has been criticized for its limitations and potential for unethical use. It can generate plausible-sounding but incorrect or nonsensical answers known as hallucinations. Biases in its training data have been reflected in its responses. The chatbot can facilitate academic dishonesty, generate misinformation, and create malicious code. The ethics of its development, particularly the use of copyrighted content as training data, have also drawn controversy. These issues have led to its use being restricted in some workplaces and educational institutions and have prompted widespread calls for the regulation of artificial intelligence.\", 'source': 'https://en.wikipedia.org/wiki/ChatGPT'}, page_content='rankings were used to create \"reward models\", that were used to fine-tune the model further by using several iterations of proximal policy optimization.'), Document(metadata={'title': 'ChatGPT', 'summary': \"ChatGPT is a generative artificial intelligence chatbot developed by OpenAI and released in 2022. It currently uses GPT-5, a generative pre-trained transformer (GPT), to generate text, speech, and images in response to user prompts. It is credited with accelerating the AI boom, an ongoing period of rapid investment in and public attention to the field of artificial intelligence (AI). OpenAI operates the service on a freemium model. ChatGPT's website is among the 5 most-visited websites globally as of 2025.\\nBy January 2023, ChatGPT had become the fastest-growing consumer software application in history, gaining over 100 million users in two months. Users can interact with ChatGPT through text, audio, and image prompts. It has been lauded as a revolutionary tool that could transform numerous professional fields. At the same time, its release prompted extensive media coverage and public debate about the nature of creativity and the future of knowledge work.\\nDespite its acclaim, the chatbot has been criticized for its limitations and potential for unethical use. It can generate plausible-sounding but incorrect or nonsensical answers known as hallucinations. Biases in its training data have been reflected in its responses. The chatbot can facilitate academic dishonesty, generate misinformation, and create malicious code. The ethics of its development, particularly the use of copyrighted content as training data, have also drawn controversy. These issues have led to its use being restricted in some workplaces and educational institutions and have prompted widespread calls for the regulation of artificial intelligence.\", 'source': 'https://en.wikipedia.org/wiki/ChatGPT'}, page_content='To build a safety system against harmful content (e.g., sexual abuse, violence, racism, sexism), OpenAI used outsourced Kenyan workers earning around $1.32 to $2 per hour to label such content. These labels were used to train a model to detect such'), Document(metadata={'title': 'ChatGPT', 'summary': \"ChatGPT is a generative artificial intelligence chatbot developed by OpenAI and released in 2022. It currently uses GPT-5, a generative pre-trained transformer (GPT), to generate text, speech, and images in response to user prompts. It is credited with accelerating the AI boom, an ongoing period of rapid investment in and public attention to the field of artificial intelligence (AI). OpenAI operates the service on a freemium model. ChatGPT's website is among the 5 most-visited websites globally as of 2025.\\nBy January 2023, ChatGPT had become the fastest-growing consumer software application in history, gaining over 100 million users in two months. Users can interact with ChatGPT through text, audio, and image prompts. It has been lauded as a revolutionary tool that could transform numerous professional fields. At the same time, its release prompted extensive media coverage and public debate about the nature of creativity and the future of knowledge work.\\nDespite its acclaim, the chatbot has been criticized for its limitations and potential for unethical use. It can generate plausible-sounding but incorrect or nonsensical answers known as hallucinations. Biases in its training data have been reflected in its responses. The chatbot can facilitate academic dishonesty, generate misinformation, and create malicious code. The ethics of its development, particularly the use of copyrighted content as training data, have also drawn controversy. These issues have led to its use being restricted in some workplaces and educational institutions and have prompted widespread calls for the regulation of artificial intelligence.\", 'source': 'https://en.wikipedia.org/wiki/ChatGPT'}, page_content='content in the future. The laborers were exposed to toxic and traumatic content; one worker described the assignment as \"torture\". OpenAI\\'s outsourcing partner was Sama, a training-data company based in San Francisco, California.'), Document(metadata={'title': 'ChatGPT', 'summary': \"ChatGPT is a generative artificial intelligence chatbot developed by OpenAI and released in 2022. It currently uses GPT-5, a generative pre-trained transformer (GPT), to generate text, speech, and images in response to user prompts. It is credited with accelerating the AI boom, an ongoing period of rapid investment in and public attention to the field of artificial intelligence (AI). OpenAI operates the service on a freemium model. ChatGPT's website is among the 5 most-visited websites globally as of 2025.\\nBy January 2023, ChatGPT had become the fastest-growing consumer software application in history, gaining over 100 million users in two months. Users can interact with ChatGPT through text, audio, and image prompts. It has been lauded as a revolutionary tool that could transform numerous professional fields. At the same time, its release prompted extensive media coverage and public debate about the nature of creativity and the future of knowledge work.\\nDespite its acclaim, the chatbot has been criticized for its limitations and potential for unethical use. It can generate plausible-sounding but incorrect or nonsensical answers known as hallucinations. Biases in its training data have been reflected in its responses. The chatbot can facilitate academic dishonesty, generate misinformation, and create malicious code. The ethics of its development, particularly the use of copyrighted content as training data, have also drawn controversy. These issues have led to its use being restricted in some workplaces and educational institutions and have prompted widespread calls for the regulation of artificial intelligence.\", 'source': 'https://en.wikipedia.org/wiki/ChatGPT'}, page_content='OpenAI collects data from ChatGPT users to further train and fine-tune its services. Users can upvote or downvote responses they receive from ChatGPT and fill in a text field with additional feedback.'), Document(metadata={'title': 'ChatGPT', 'summary': \"ChatGPT is a generative artificial intelligence chatbot developed by OpenAI and released in 2022. It currently uses GPT-5, a generative pre-trained transformer (GPT), to generate text, speech, and images in response to user prompts. It is credited with accelerating the AI boom, an ongoing period of rapid investment in and public attention to the field of artificial intelligence (AI). OpenAI operates the service on a freemium model. ChatGPT's website is among the 5 most-visited websites globally as of 2025.\\nBy January 2023, ChatGPT had become the fastest-growing consumer software application in history, gaining over 100 million users in two months. Users can interact with ChatGPT through text, audio, and image prompts. It has been lauded as a revolutionary tool that could transform numerous professional fields. At the same time, its release prompted extensive media coverage and public debate about the nature of creativity and the future of knowledge work.\\nDespite its acclaim, the chatbot has been criticized for its limitations and potential for unethical use. It can generate plausible-sounding but incorrect or nonsensical answers known as hallucinations. Biases in its training data have been reflected in its responses. The chatbot can facilitate academic dishonesty, generate misinformation, and create malicious code. The ethics of its development, particularly the use of copyrighted content as training data, have also drawn controversy. These issues have led to its use being restricted in some workplaces and educational institutions and have prompted widespread calls for the regulation of artificial intelligence.\", 'source': 'https://en.wikipedia.org/wiki/ChatGPT'}, page_content=\"ChatGPT's training data includes software manual pages, information about internet phenomena such as bulletin board systems, multiple programming languages, and the text of Wikipedia.\"), Document(metadata={'title': 'ChatGPT', 'summary': \"ChatGPT is a generative artificial intelligence chatbot developed by OpenAI and released in 2022. It currently uses GPT-5, a generative pre-trained transformer (GPT), to generate text, speech, and images in response to user prompts. It is credited with accelerating the AI boom, an ongoing period of rapid investment in and public attention to the field of artificial intelligence (AI). OpenAI operates the service on a freemium model. ChatGPT's website is among the 5 most-visited websites globally as of 2025.\\nBy January 2023, ChatGPT had become the fastest-growing consumer software application in history, gaining over 100 million users in two months. Users can interact with ChatGPT through text, audio, and image prompts. It has been lauded as a revolutionary tool that could transform numerous professional fields. At the same time, its release prompted extensive media coverage and public debate about the nature of creativity and the future of knowledge work.\\nDespite its acclaim, the chatbot has been criticized for its limitations and potential for unethical use. It can generate plausible-sounding but incorrect or nonsensical answers known as hallucinations. Biases in its training data have been reflected in its responses. The chatbot can facilitate academic dishonesty, generate misinformation, and create malicious code. The ethics of its development, particularly the use of copyrighted content as training data, have also drawn controversy. These issues have led to its use being restricted in some workplaces and educational institutions and have prompted widespread calls for the regulation of artificial intelligence.\", 'source': 'https://en.wikipedia.org/wiki/ChatGPT'}, page_content='== Features =='), Document(metadata={'title': 'ChatGPT', 'summary': \"ChatGPT is a generative artificial intelligence chatbot developed by OpenAI and released in 2022. It currently uses GPT-5, a generative pre-trained transformer (GPT), to generate text, speech, and images in response to user prompts. It is credited with accelerating the AI boom, an ongoing period of rapid investment in and public attention to the field of artificial intelligence (AI). OpenAI operates the service on a freemium model. ChatGPT's website is among the 5 most-visited websites globally as of 2025.\\nBy January 2023, ChatGPT had become the fastest-growing consumer software application in history, gaining over 100 million users in two months. Users can interact with ChatGPT through text, audio, and image prompts. It has been lauded as a revolutionary tool that could transform numerous professional fields. At the same time, its release prompted extensive media coverage and public debate about the nature of creativity and the future of knowledge work.\\nDespite its acclaim, the chatbot has been criticized for its limitations and potential for unethical use. It can generate plausible-sounding but incorrect or nonsensical answers known as hallucinations. Biases in its training data have been reflected in its responses. The chatbot can facilitate academic dishonesty, generate misinformation, and create malicious code. The ethics of its development, particularly the use of copyrighted content as training data, have also drawn controversy. These issues have led to its use being restricted in some workplaces and educational institutions and have prompted widespread calls for the regulation of artificial intelligence.\", 'source': 'https://en.wikipedia.org/wiki/ChatGPT'}, page_content='ChatGPT is a conversational chatbot and artificial intelligence assistant based on large language models. It can write and debug computer programs; compose music, teleplays, fairy tales, and student essays; answer test questions (sometimes, depending on'), Document(metadata={'title': 'ChatGPT', 'summary': \"ChatGPT is a generative artificial intelligence chatbot developed by OpenAI and released in 2022. It currently uses GPT-5, a generative pre-trained transformer (GPT), to generate text, speech, and images in response to user prompts. It is credited with accelerating the AI boom, an ongoing period of rapid investment in and public attention to the field of artificial intelligence (AI). OpenAI operates the service on a freemium model. ChatGPT's website is among the 5 most-visited websites globally as of 2025.\\nBy January 2023, ChatGPT had become the fastest-growing consumer software application in history, gaining over 100 million users in two months. Users can interact with ChatGPT through text, audio, and image prompts. It has been lauded as a revolutionary tool that could transform numerous professional fields. At the same time, its release prompted extensive media coverage and public debate about the nature of creativity and the future of knowledge work.\\nDespite its acclaim, the chatbot has been criticized for its limitations and potential for unethical use. It can generate plausible-sounding but incorrect or nonsensical answers known as hallucinations. Biases in its training data have been reflected in its responses. The chatbot can facilitate academic dishonesty, generate misinformation, and create malicious code. The ethics of its development, particularly the use of copyrighted content as training data, have also drawn controversy. These issues have led to its use being restricted in some workplaces and educational institutions and have prompted widespread calls for the regulation of artificial intelligence.\", 'source': 'https://en.wikipedia.org/wiki/ChatGPT'}, page_content='the test, at a level above the average human test-taker); generate business ideas; translate and summarize text; simulate a Linux system; simulate entire chat rooms; or play games like tic-tac-toe.'), Document(metadata={'title': 'ChatGPT', 'summary': \"ChatGPT is a generative artificial intelligence chatbot developed by OpenAI and released in 2022. It currently uses GPT-5, a generative pre-trained transformer (GPT), to generate text, speech, and images in response to user prompts. It is credited with accelerating the AI boom, an ongoing period of rapid investment in and public attention to the field of artificial intelligence (AI). OpenAI operates the service on a freemium model. ChatGPT's website is among the 5 most-visited websites globally as of 2025.\\nBy January 2023, ChatGPT had become the fastest-growing consumer software application in history, gaining over 100 million users in two months. Users can interact with ChatGPT through text, audio, and image prompts. It has been lauded as a revolutionary tool that could transform numerous professional fields. At the same time, its release prompted extensive media coverage and public debate about the nature of creativity and the future of knowledge work.\\nDespite its acclaim, the chatbot has been criticized for its limitations and potential for unethical use. It can generate plausible-sounding but incorrect or nonsensical answers known as hallucinations. Biases in its training data have been reflected in its responses. The chatbot can facilitate academic dishonesty, generate misinformation, and create malicious code. The ethics of its development, particularly the use of copyrighted content as training data, have also drawn controversy. These issues have led to its use being restricted in some workplaces and educational institutions and have prompted widespread calls for the regulation of artificial intelligence.\", 'source': 'https://en.wikipedia.org/wiki/ChatGPT'}, page_content=\"Users interact with ChatGPT through conversations which consist of text, audio, and image inputs and outputs. The user's inputs to these conversations are referred to as prompts. They can explicitly tell ChatGPT to remember aspects of the conversation,\"), Document(metadata={'title': 'ChatGPT', 'summary': \"ChatGPT is a generative artificial intelligence chatbot developed by OpenAI and released in 2022. It currently uses GPT-5, a generative pre-trained transformer (GPT), to generate text, speech, and images in response to user prompts. It is credited with accelerating the AI boom, an ongoing period of rapid investment in and public attention to the field of artificial intelligence (AI). OpenAI operates the service on a freemium model. ChatGPT's website is among the 5 most-visited websites globally as of 2025.\\nBy January 2023, ChatGPT had become the fastest-growing consumer software application in history, gaining over 100 million users in two months. Users can interact with ChatGPT through text, audio, and image prompts. It has been lauded as a revolutionary tool that could transform numerous professional fields. At the same time, its release prompted extensive media coverage and public debate about the nature of creativity and the future of knowledge work.\\nDespite its acclaim, the chatbot has been criticized for its limitations and potential for unethical use. It can generate plausible-sounding but incorrect or nonsensical answers known as hallucinations. Biases in its training data have been reflected in its responses. The chatbot can facilitate academic dishonesty, generate misinformation, and create malicious code. The ethics of its development, particularly the use of copyrighted content as training data, have also drawn controversy. These issues have led to its use being restricted in some workplaces and educational institutions and have prompted widespread calls for the regulation of artificial intelligence.\", 'source': 'https://en.wikipedia.org/wiki/ChatGPT'}, page_content='and ChatGPT can use these details in future conversations. ChatGPT can also decide for itself to re'), Document(metadata={'title': 'GPT-5', 'summary': 'GPT-5 is a multimodal large language model developed by OpenAI and the fifth in its series of generative pre-trained transformer (GPT) foundation models. Preceded in the series by GPT-4, it was launched on August 7, 2025, combining reasoning capabilities and non-reasoning functionality under a common interface. At its time of release, GPT-5 had state-of-the-art performance on various benchmarks. The model is publicly accessible to users of the chatbot products ChatGPT and Microsoft Copilot as well as to developers through the OpenAI API.\\n\\n', 'source': 'https://en.wikipedia.org/wiki/GPT-5'}, page_content='GPT-5 is a multimodal large language model developed by OpenAI and the fifth in its series of generative pre-trained transformer (GPT) foundation models. Preceded in the series by GPT-4, it was launched on August 7, 2025, combining reasoning capabilities'), Document(metadata={'title': 'GPT-5', 'summary': 'GPT-5 is a multimodal large language model developed by OpenAI and the fifth in its series of generative pre-trained transformer (GPT) foundation models. Preceded in the series by GPT-4, it was launched on August 7, 2025, combining reasoning capabilities and non-reasoning functionality under a common interface. At its time of release, GPT-5 had state-of-the-art performance on various benchmarks. The model is publicly accessible to users of the chatbot products ChatGPT and Microsoft Copilot as well as to developers through the OpenAI API.\\n\\n', 'source': 'https://en.wikipedia.org/wiki/GPT-5'}, page_content='and non-reasoning functionality under a common interface. At its time of release, GPT-5 had state-of-the-art performance on various benchmarks. The model is publicly accessible to users of the chatbot products ChatGPT and Microsoft Copilot as well as to'), Document(metadata={'title': 'GPT-5', 'summary': 'GPT-5 is a multimodal large language model developed by OpenAI and the fifth in its series of generative pre-trained transformer (GPT) foundation models. Preceded in the series by GPT-4, it was launched on August 7, 2025, combining reasoning capabilities and non-reasoning functionality under a common interface. At its time of release, GPT-5 had state-of-the-art performance on various benchmarks. The model is publicly accessible to users of the chatbot products ChatGPT and Microsoft Copilot as well as to developers through the OpenAI API.\\n\\n', 'source': 'https://en.wikipedia.org/wiki/GPT-5'}, page_content='developers through the OpenAI API.'), Document(metadata={'title': 'GPT-5', 'summary': 'GPT-5 is a multimodal large language model developed by OpenAI and the fifth in its series of generative pre-trained transformer (GPT) foundation models. Preceded in the series by GPT-4, it was launched on August 7, 2025, combining reasoning capabilities and non-reasoning functionality under a common interface. At its time of release, GPT-5 had state-of-the-art performance on various benchmarks. The model is publicly accessible to users of the chatbot products ChatGPT and Microsoft Copilot as well as to developers through the OpenAI API.\\n\\n', 'source': 'https://en.wikipedia.org/wiki/GPT-5'}, page_content='== Background =='), Document(metadata={'title': 'GPT-5', 'summary': 'GPT-5 is a multimodal large language model developed by OpenAI and the fifth in its series of generative pre-trained transformer (GPT) foundation models. Preceded in the series by GPT-4, it was launched on August 7, 2025, combining reasoning capabilities and non-reasoning functionality under a common interface. At its time of release, GPT-5 had state-of-the-art performance on various benchmarks. The model is publicly accessible to users of the chatbot products ChatGPT and Microsoft Copilot as well as to developers through the OpenAI API.\\n\\n', 'source': 'https://en.wikipedia.org/wiki/GPT-5'}, page_content='On April 14, 2023, Sam Altman, the chief executive officer of OpenAI, spoke at an event at the Massachusetts Institute of Technology and said that the company was not training GPT-5 at that time. He stated that OpenAI was \"prioritizing GPT-4 development\"'), Document(metadata={'title': 'GPT-5', 'summary': 'GPT-5 is a multimodal large language model developed by OpenAI and the fifth in its series of generative pre-trained transformer (GPT) foundation models. Preceded in the series by GPT-4, it was launched on August 7, 2025, combining reasoning capabilities and non-reasoning functionality under a common interface. At its time of release, GPT-5 had state-of-the-art performance on various benchmarks. The model is publicly accessible to users of the chatbot products ChatGPT and Microsoft Copilot as well as to developers through the OpenAI API.\\n\\n', 'source': 'https://en.wikipedia.org/wiki/GPT-5'}, page_content='and that \"we are not and won\\'t for some time\" release GPT-5.'), Document(metadata={'title': 'GPT-5', 'summary': 'GPT-5 is a multimodal large language model developed by OpenAI and the fifth in its series of generative pre-trained transformer (GPT) foundation models. Preceded in the series by GPT-4, it was launched on August 7, 2025, combining reasoning capabilities and non-reasoning functionality under a common interface. At its time of release, GPT-5 had state-of-the-art performance on various benchmarks. The model is publicly accessible to users of the chatbot products ChatGPT and Microsoft Copilot as well as to developers through the OpenAI API.\\n\\n', 'source': 'https://en.wikipedia.org/wiki/GPT-5'}, page_content='On July 18, OpenAI filed for a \"GPT-5\" trademark in the United States. On November 13, Altman confirmed to the Financial Times that the company was working to develop GPT-5.'), Document(metadata={'title': 'GPT-5', 'summary': 'GPT-5 is a multimodal large language model developed by OpenAI and the fifth in its series of generative pre-trained transformer (GPT) foundation models. Preceded in the series by GPT-4, it was launched on August 7, 2025, combining reasoning capabilities and non-reasoning functionality under a common interface. At its time of release, GPT-5 had state-of-the-art performance on various benchmarks. The model is publicly accessible to users of the chatbot products ChatGPT and Microsoft Copilot as well as to developers through the OpenAI API.\\n\\n', 'source': 'https://en.wikipedia.org/wiki/GPT-5'}, page_content='According to The Information, \"[f]or much of the second half of 2024, OpenAI was developing a model known internally as Orion and intended to become GPT-5\", \"[b]ut the Orion effort failed to produce a better model, and the company instead released it as'), Document(metadata={'title': 'GPT-5', 'summary': 'GPT-5 is a multimodal large language model developed by OpenAI and the fifth in its series of generative pre-trained transformer (GPT) foundation models. Preceded in the series by GPT-4, it was launched on August 7, 2025, combining reasoning capabilities and non-reasoning functionality under a common interface. At its time of release, GPT-5 had state-of-the-art performance on various benchmarks. The model is publicly accessible to users of the chatbot products ChatGPT and Microsoft Copilot as well as to developers through the OpenAI API.\\n\\n', 'source': 'https://en.wikipedia.org/wiki/GPT-5'}, page_content='GPT-4.5 in February [2025].\"'), Document(metadata={'title': 'GPT-5', 'summary': 'GPT-5 is a multimodal large language model developed by OpenAI and the fifth in its series of generative pre-trained transformer (GPT) foundation models. Preceded in the series by GPT-4, it was launched on August 7, 2025, combining reasoning capabilities and non-reasoning functionality under a common interface. At its time of release, GPT-5 had state-of-the-art performance on various benchmarks. The model is publicly accessible to users of the chatbot products ChatGPT and Microsoft Copilot as well as to developers through the OpenAI API.\\n\\n', 'source': 'https://en.wikipedia.org/wiki/GPT-5'}, page_content='By late July 2025, OpenAI was widely anticipated as planning to release GPT-5 in early August. On July 30, The Verge reported that \"Microsoft is getting ready for GPT-5\" as \"sources familiar with Microsoft\\'s AI plans\" told an editor that the company was'), Document(metadata={'title': 'GPT-5', 'summary': 'GPT-5 is a multimodal large language model developed by OpenAI and the fifth in its series of generative pre-trained transformer (GPT) foundation models. Preceded in the series by GPT-4, it was launched on August 7, 2025, combining reasoning capabilities and non-reasoning functionality under a common interface. At its time of release, GPT-5 had state-of-the-art performance on various benchmarks. The model is publicly accessible to users of the chatbot products ChatGPT and Microsoft Copilot as well as to developers through the OpenAI API.\\n\\n', 'source': 'https://en.wikipedia.org/wiki/GPT-5'}, page_content='testing a new mode for its Copilot chatbot that would offer a model that \"thinks deeply or quickly based on the task\". On August 5, in the leadup to the release of GPT-5, OpenAI released GPT-OSS, a set of two open-weight models that have reasoning'), Document(metadata={'title': 'GPT-5', 'summary': 'GPT-5 is a multimodal large language model developed by OpenAI and the fifth in its series of generative pre-trained transformer (GPT) foundation models. Preceded in the series by GPT-4, it was launched on August 7, 2025, combining reasoning capabilities and non-reasoning functionality under a common interface. At its time of release, GPT-5 had state-of-the-art performance on various benchmarks. The model is publicly accessible to users of the chatbot products ChatGPT and Microsoft Copilot as well as to developers through the OpenAI API.\\n\\n', 'source': 'https://en.wikipedia.org/wiki/GPT-5'}, page_content='capabilities.'), Document(metadata={'title': 'GPT-5', 'summary': 'GPT-5 is a multimodal large language model developed by OpenAI and the fifth in its series of generative pre-trained transformer (GPT) foundation models. Preceded in the series by GPT-4, it was launched on August 7, 2025, combining reasoning capabilities and non-reasoning functionality under a common interface. At its time of release, GPT-5 had state-of-the-art performance on various benchmarks. The model is publicly accessible to users of the chatbot products ChatGPT and Microsoft Copilot as well as to developers through the OpenAI API.\\n\\n', 'source': 'https://en.wikipedia.org/wiki/GPT-5'}, page_content='On August 6, OpenAI announced its planned livestream event for August 7. In its announcement, OpenAI replaced the \"s\" in the word \"livestream\" with a \"5\", indicating its intention to unveil GPT-5 during the livestream.'), Document(metadata={'title': 'GPT-5', 'summary': 'GPT-5 is a multimodal large language model developed by OpenAI and the fifth in its series of generative pre-trained transformer (GPT) foundation models. Preceded in the series by GPT-4, it was launched on August 7, 2025, combining reasoning capabilities and non-reasoning functionality under a common interface. At its time of release, GPT-5 had state-of-the-art performance on various benchmarks. The model is publicly accessible to users of the chatbot products ChatGPT and Microsoft Copilot as well as to developers through the OpenAI API.\\n\\n', 'source': 'https://en.wikipedia.org/wiki/GPT-5'}, page_content='== Capabilities =='), Document(metadata={'title': 'GPT-5', 'summary': 'GPT-5 is a multimodal large language model developed by OpenAI and the fifth in its series of generative pre-trained transformer (GPT) foundation models. Preceded in the series by GPT-4, it was launched on August 7, 2025, combining reasoning capabilities and non-reasoning functionality under a common interface. At its time of release, GPT-5 had state-of-the-art performance on various benchmarks. The model is publicly accessible to users of the chatbot products ChatGPT and Microsoft Copilot as well as to developers through the OpenAI API.\\n\\n', 'source': 'https://en.wikipedia.org/wiki/GPT-5'}, page_content='At the time of its release, GPT-5 had state-of-the-art performance on benchmarks that test mathematics, programming, finance, and multimodal understanding. According to OpenAI, improvements over its predecessor models include faster response times, better'), Document(metadata={'title': 'GPT-5', 'summary': 'GPT-5 is a multimodal large language model developed by OpenAI and the fifth in its series of generative pre-trained transformer (GPT) foundation models. Preceded in the series by GPT-4, it was launched on August 7, 2025, combining reasoning capabilities and non-reasoning functionality under a common interface. At its time of release, GPT-5 had state-of-the-art performance on various benchmarks. The model is publicly accessible to users of the chatbot products ChatGPT and Microsoft Copilot as well as to developers through the OpenAI API.\\n\\n', 'source': 'https://en.wikipedia.org/wiki/GPT-5'}, page_content='coding and writing skills, more accurate answers to health questions, and lower levels of hallucination. Also, compared to previous models, GPT-5 aims to give safe, high-level responses to potentially harmful queries rather than outright declining them,'), Document(metadata={'title': 'GPT-5', 'summary': 'GPT-5 is a multimodal large language model developed by OpenAI and the fifth in its series of generative pre-trained transformer (GPT) foundation models. Preceded in the series by GPT-4, it was launched on August 7, 2025, combining reasoning capabilities and non-reasoning functionality under a common interface. At its time of release, GPT-5 had state-of-the-art performance on various benchmarks. The model is publicly accessible to users of the chatbot products ChatGPT and Microsoft Copilot as well as to developers through the OpenAI API.\\n\\n', 'source': 'https://en.wikipedia.org/wiki/GPT-5'}, page_content='an approach that OpenAI refers to as \"safe completions\", aiming to result \"in GPT-5 being able to refuse more unsafe questions, while offering fewer rejections to users seeking harmless information.\" In addition, GPT-5 was trained to give more critical,'), Document(metadata={'title': 'GPT-5', 'summary': 'GPT-5 is a multimodal large language model developed by OpenAI and the fifth in its series of generative pre-trained transformer (GPT) foundation models. Preceded in the series by GPT-4, it was launched on August 7, 2025, combining reasoning capabilities and non-reasoning functionality under a common interface. At its time of release, GPT-5 had state-of-the-art performance on various benchmarks. The model is publicly accessible to users of the chatbot products ChatGPT and Microsoft Copilot as well as to developers through the OpenAI API.\\n\\n', 'source': 'https://en.wikipedia.org/wiki/GPT-5'}, page_content='\"less effusively agreeable\" answers compared to its predecessor models.'), Document(metadata={'title': 'GPT-5', 'summary': 'GPT-5 is a multimodal large language model developed by OpenAI and the fifth in its series of generative pre-trained transformer (GPT) foundation models. Preceded in the series by GPT-4, it was launched on August 7, 2025, combining reasoning capabilities and non-reasoning functionality under a common interface. At its time of release, GPT-5 had state-of-the-art performance on various benchmarks. The model is publicly accessible to users of the chatbot products ChatGPT and Microsoft Copilot as well as to developers through the OpenAI API.\\n\\n', 'source': 'https://en.wikipedia.org/wiki/GPT-5'}, page_content='Days before the launch of GPT-5, two early testers of the model stated that they were \"impressed\" by its ability to code and to solve mathematical and scientific problems. They suggested that the model shows great improvement from GPT-4, but not as large'), Document(metadata={'title': 'GPT-5', 'summary': 'GPT-5 is a multimodal large language model developed by OpenAI and the fifth in its series of generative pre-trained transformer (GPT) foundation models. Preceded in the series by GPT-4, it was launched on August 7, 2025, combining reasoning capabilities and non-reasoning functionality under a common interface. At its time of release, GPT-5 had state-of-the-art performance on various benchmarks. The model is publicly accessible to users of the chatbot products ChatGPT and Microsoft Copilot as well as to developers through the OpenAI API.\\n\\n', 'source': 'https://en.wikipedia.org/wiki/GPT-5'}, page_content='of a gain as from GPT-3 to GPT-4. A day prior to the release of GPT-5, during a press briefing, Sam Altman, the chief executive officer of OpenAI, called GPT-5 \"a significant step along the path to AGI\", referring to artificial general intelligence, the'), Document(metadata={'title': 'GPT-5', 'summary': 'GPT-5 is a multimodal large language model developed by OpenAI and the fifth in its series of generative pre-trained transformer (GPT) foundation models. Preceded in the series by GPT-4, it was launched on August 7, 2025, combining reasoning capabilities and non-reasoning functionality under a common interface. At its time of release, GPT-5 had state-of-the-art performance on various benchmarks. The model is publicly accessible to users of the chatbot products ChatGPT and Microsoft Copilot as well as to developers through the OpenAI API.\\n\\n', 'source': 'https://en.wikipedia.org/wiki/GPT-5'}, page_content='hypothetical level of intelligence that OpenAI defines as the ability to perform any economically valuable task that a human can. According to Altman, GPT-5 is \"significantly better\" than its predecessors, offering \"PhD-level\" abilities across a wide'), Document(metadata={'title': 'GPT-5', 'summary': 'GPT-5 is a multimodal large language model developed by OpenAI and the fifth in its series of generative pre-trained transformer (GPT) foundation models. Preceded in the series by GPT-4, it was launched on August 7, 2025, combining reasoning capabilities and non-reasoning functionality under a common interface. At its time of release, GPT-5 had state-of-the-art performance on various benchmarks. The model is publicly accessible to users of the chatbot products ChatGPT and Microsoft Copilot as well as to developers through the OpenAI API.\\n\\n', 'source': 'https://en.wikipedia.org/wiki/GPT-5'}, page_content='range of tasks.'), Document(metadata={'title': 'GPT-5', 'summary': 'GPT-5 is a multimodal large language model developed by OpenAI and the fifth in its series of generative pre-trained transformer (GPT) foundation models. Preceded in the series by GPT-4, it was launched on August 7, 2025, combining reasoning capabilities and non-reasoning functionality under a common interface. At its time of release, GPT-5 had state-of-the-art performance on various benchmarks. The model is publicly accessible to users of the chatbot products ChatGPT and Microsoft Copilot as well as to developers through the OpenAI API.\\n\\n', 'source': 'https://en.wikipedia.org/wiki/GPT-5'}, page_content='The exact energy consumption of GPT-5 use has not been disclosed by OpenAI. Researchers at the University of Rhode Island estimated that a medium-length response consumes slightly over 18 watt-hours, equivalent to using an incandescent bulb for 18'), Document(metadata={'title': 'GPT-5', 'summary': 'GPT-5 is a multimodal large language model developed by OpenAI and the fifth in its series of generative pre-trained transformer (GPT) foundation models. Preceded in the series by GPT-4, it was launched on August 7, 2025, combining reasoning capabilities and non-reasoning functionality under a common interface. At its time of release, GPT-5 had state-of-the-art performance on various benchmarks. The model is publicly accessible to users of the chatbot products ChatGPT and Microsoft Copilot as well as to developers through the OpenAI API.\\n\\n', 'source': 'https://en.wikipedia.org/wiki/GPT-5'}, page_content='minutes.'), Document(metadata={'title': 'GPT-5', 'summary': 'GPT-5 is a multimodal large language model developed by OpenAI and the fifth in its series of generative pre-trained transformer (GPT) foundation models. Preceded in the series by GPT-4, it was launched on August 7, 2025, combining reasoning capabilities and non-reasoning functionality under a common interface. At its time of release, GPT-5 had state-of-the-art performance on various benchmarks. The model is publicly accessible to users of the chatbot products ChatGPT and Microsoft Copilot as well as to developers through the OpenAI API.\\n\\n', 'source': 'https://en.wikipedia.org/wiki/GPT-5'}, page_content='=== Architecture ===\\n\\nGPT-5 is a sys')]\n"
     ]
    }
   ],
   "source": [
    "print(chunks)"
   ]
  },
  {
   "cell_type": "code",
   "execution_count": 79,
   "id": "ce233f4b",
   "metadata": {},
   "outputs": [],
   "source": [
    "question = 'what is chatgpt ?'"
   ]
  },
  {
   "cell_type": "code",
   "execution_count": 81,
   "id": "1fafc984",
   "metadata": {},
   "outputs": [],
   "source": [
    "chat_history = []"
   ]
  },
  {
   "cell_type": "code",
   "execution_count": 96,
   "id": "ed2d01e7",
   "metadata": {},
   "outputs": [
    {
     "name": "stdout",
     "output_type": "stream",
     "text": [
      "There are 20 words in the provided text.\n",
      "[('How many words are in the paragraph ?', 'There are 20 words in the provided text.')]\n"
     ]
    }
   ],
   "source": [
    "chat_history = []\n",
    "question1 = \"How many words are in the paragraph ?\"\n",
    "result, chat_history = ask_with_memory(vectorstore, question1, chat_history)\n",
    "print(result['answer'])\n",
    "print(chat_history)"
   ]
  },
  {
   "cell_type": "code",
   "execution_count": 97,
   "id": "68d989f0",
   "metadata": {},
   "outputs": [
    {
     "name": "stdout",
     "output_type": "stream",
     "text": [
      "There are 20 words in the provided text.\n",
      "[('How many words are in the paragraph ?', 'There are 20 words in the provided text.'), ('multiply that number by 2', \"I don't know. The provided text does not contain the answer to that question.\")]\n"
     ]
    }
   ],
   "source": [
    "question2 = \"multiply that number by 2\"\n",
    "reuslt, chat_history = ask_with_memory(vectorstore, question2, chat_history)\n",
    "print(result['answer'])\n",
    "print(chat_history)"
   ]
  }
 ],
 "metadata": {
  "kernelspec": {
   "display_name": "llms",
   "language": "python",
   "name": "python3"
  },
  "language_info": {
   "codemirror_mode": {
    "name": "ipython",
    "version": 3
   },
   "file_extension": ".py",
   "mimetype": "text/x-python",
   "name": "python",
   "nbconvert_exporter": "python",
   "pygments_lexer": "ipython3",
   "version": "3.11.13"
  }
 },
 "nbformat": 4,
 "nbformat_minor": 5
}
