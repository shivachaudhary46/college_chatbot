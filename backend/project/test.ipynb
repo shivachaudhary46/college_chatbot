{
 "cells": [
  {
   "cell_type": "code",
   "execution_count": 1,
   "id": "9122dcdd",
   "metadata": {},
   "outputs": [],
   "source": [
    "# Hugging Face with langchain"
   ]
  },
  {
   "cell_type": "code",
   "execution_count": 5,
   "id": "62cc47e1",
   "metadata": {},
   "outputs": [],
   "source": [
    "import os \n",
    "from dotenv import load_dotenv, find_dotenv\n",
    "load_dotenv(find_dotenv(), override=True)\n",
    "\n",
    "hf_key = os.environ[\"HUGGINGFACEHUB_API_TOKEN\"]"
   ]
  },
  {
   "cell_type": "code",
   "execution_count": 13,
   "id": "7aa646d3",
   "metadata": {},
   "outputs": [],
   "source": [
    "def chunk_data(data, file_name, chunk_size=256):\n",
    "    from langchain.text_splitter import RecursiveCharacterTextSplitter\n",
    "    text_splitter = RecursiveCharacterTextSplitter(chunk_size=chunk_size, chunk_overlap=20)\n",
    "    chunks = text_splitter.split_documents(data)\n",
    "    return chunks"
   ]
  },
  {
   "cell_type": "code",
   "execution_count": 10,
   "id": "65f89437",
   "metadata": {},
   "outputs": [],
   "source": [
    "# $if you have created new index and you are storing the document in to the vector then only use this function \n",
    "def embedding_and_storing(index_name, chunks):  # must have index name, and already chunked the store\n",
    "\n",
    "    from langchain_pinecone import PineconeVectorStore\n",
    "    from langchain_huggingface.embeddings import HuggingFaceEndpointEmbeddings\n",
    "\n",
    "    embeddings = HuggingFaceEndpointEmbeddings(\n",
    "        model= \"mixedbread-ai/mxbai-embed-large-v1\",\n",
    "        task=\"feature-extraction\",\n",
    "        huggingfacehub_api_token=hf_key,\n",
    "    )\n",
    "\n",
    "    print(\"only applicable if you have created a new Index....\")\n",
    "    vectorstore = PineconeVectorStore.from_documents(\n",
    "        documents=chunks,\n",
    "        embedding=embeddings,\n",
    "        index_name=index_name\n",
    "    )\n",
    "    print(\"Documents successfully uploaded to pinecone!!\")\n",
    "\n",
    "    return vectorstore"
   ]
  },
  {
   "cell_type": "code",
   "execution_count": 11,
   "id": "b606259a",
   "metadata": {},
   "outputs": [],
   "source": [
    "from pinecone import Pinecone\n",
    "\n",
    "pc = Pinecone(\n",
    "        api=os.environ.get(\"PINECONE_API_KEY\")\n",
    "    )"
   ]
  },
  {
   "cell_type": "code",
   "execution_count": null,
   "id": "b85f71ff",
   "metadata": {},
   "outputs": [],
   "source": [
    "def creating_new_index(index_name):\n",
    "    from pinecone import pinecone\n",
    "    from pinecone import ServerlessSpec\n",
    "    # from langchain_pinecone import PineconeVectorStore\n",
    "    # from langchain_google_genai import GoogleGenerativeAIEmbeddings\n",
    "\n",
    "    pc = Pinecone(\n",
    "                    api_key=os.environ.get(\"PINECONE_API_KEY\")\n",
    "                )\n",
    "\n",
    "    if index_name not in pc.list_indexes():\n",
    "        # if we could not find the index-name in the pinecone we have to create a new one\n",
    "        print(f\"Creating an index name...........{index_name}\")\n",
    "        pc.create_index(\n",
    "            index_name,\n",
    "            dimension=3072,\n",
    "            metric='cosine',\n",
    "            spec=ServerlessSpec(\n",
    "                cloud='aws',\n",
    "                region='us-east-1'\n",
    "            )\n",
    "        )\n",
    "        print(\"Done creating Index..\")\n",
    "\n",
    "    else:\n",
    "        print(f\"Index {index_name} already exists.....\", ends='')"
   ]
  }
 ],
 "metadata": {
  "kernelspec": {
   "display_name": "llms",
   "language": "python",
   "name": "python3"
  },
  "language_info": {
   "codemirror_mode": {
    "name": "ipython",
    "version": 3
   },
   "file_extension": ".py",
   "mimetype": "text/x-python",
   "name": "python",
   "nbconvert_exporter": "python",
   "pygments_lexer": "ipython3",
   "version": "3.11.13"
  }
 },
 "nbformat": 4,
 "nbformat_minor": 5
}
